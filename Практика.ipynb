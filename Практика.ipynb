{
 "cells": [
  {
   "cell_type": "markdown",
   "metadata": {},
   "source": [
    "### Практика"
   ]
  },
  {
   "cell_type": "markdown",
   "metadata": {},
   "source": [
    "#### Преобразуем исходный файл в txt с одним исследуемым столбцом"
   ]
  },
  {
   "cell_type": "code",
   "execution_count": null,
   "metadata": {},
   "outputs": [],
   "source": [
    "import pandas as pd"
   ]
  },
  {
   "cell_type": "code",
   "execution_count": null,
   "metadata": {},
   "outputs": [],
   "source": [
    "d = pd.read_csv('alldata.csv', sep=',', header=None)"
   ]
  },
  {
   "cell_type": "code",
   "execution_count": null,
   "metadata": {},
   "outputs": [],
   "source": [
    "d.count()"
   ]
  },
  {
   "cell_type": "markdown",
   "metadata": {},
   "source": [
    "Получается внутри 7 столбцов по 5002060 записей.  \n",
    "Берем 2ой столбец.  "
   ]
  },
  {
   "cell_type": "code",
   "execution_count": null,
   "metadata": {},
   "outputs": [],
   "source": [
    "r = d[2]"
   ]
  },
  {
   "cell_type": "code",
   "execution_count": null,
   "metadata": {},
   "outputs": [],
   "source": [
    "r.to_csv('data.csv', index = False, sep=';')"
   ]
  },
  {
   "cell_type": "markdown",
   "metadata": {},
   "source": [
    "#### Сохраним N последних данных для программы на С"
   ]
  },
  {
   "cell_type": "code",
   "execution_count": null,
   "metadata": {},
   "outputs": [],
   "source": [
    "N = 500000"
   ]
  },
  {
   "cell_type": "code",
   "execution_count": null,
   "metadata": {},
   "outputs": [],
   "source": [
    "r = d[2][(len(d) - N):len(d)]\n",
    "len(r)"
   ]
  },
  {
   "cell_type": "code",
   "execution_count": null,
   "metadata": {},
   "outputs": [],
   "source": [
    "r.to_csv('data500.txt', index = False, sep=';')"
   ]
  },
  {
   "cell_type": "markdown",
   "metadata": {},
   "source": [
    "#### Отрисуем последние N значений"
   ]
  },
  {
   "cell_type": "code",
   "execution_count": null,
   "metadata": {},
   "outputs": [],
   "source": [
    "import pandas as pd\n",
    "import plotly\n",
    "import plotly.graph_objs as go\n",
    "import decimal"
   ]
  },
  {
   "cell_type": "code",
   "execution_count": null,
   "metadata": {},
   "outputs": [],
   "source": [
    "N = 10000"
   ]
  },
  {
   "cell_type": "code",
   "execution_count": null,
   "metadata": {},
   "outputs": [],
   "source": [
    "data = pd.read_csv(r'data.csv', sep=',', header=None)"
   ]
  },
  {
   "cell_type": "code",
   "execution_count": null,
   "metadata": {},
   "outputs": [],
   "source": [
    "prices = pd.to_numeric(data[0][(len(data) - N):len(data)])"
   ]
  },
  {
   "cell_type": "code",
   "execution_count": null,
   "metadata": {},
   "outputs": [],
   "source": [
    "x = [i for i in range(len(prices))]\n",
    "\n",
    "fig = go.Figure()\n",
    "fig.add_trace(go.Scatter(x=x, y=prices.values))\n",
    "fig.update_layout(margin=dict(l=0, r=0, t=0, b=0))\n",
    "fig.show()"
   ]
  },
  {
   "cell_type": "markdown",
   "metadata": {},
   "source": [
    "#### Посмотрим результаты расчетов"
   ]
  },
  {
   "cell_type": "code",
   "execution_count": 6,
   "metadata": {},
   "outputs": [],
   "source": [
    "import os\n",
    "import pandas as pd\n",
    "import plotly\n",
    "import plotly.graph_objs as go\n",
    "import decimal\n",
    "import math"
   ]
  },
  {
   "cell_type": "code",
   "execution_count": 7,
   "metadata": {},
   "outputs": [],
   "source": [
    "name_file = r\"\\fractals\\res_kantor500.txt\" #229 ms\n",
    "\n",
    "\n",
    "#name_file_v1 = r\"\\variant1\\result_p5(eps1-30).txt\""
   ]
  },
  {
   "cell_type": "code",
   "execution_count": 8,
   "metadata": {},
   "outputs": [
    {
     "name": "stdout",
     "output_type": "stream",
     "text": [
      "1;-4.509860;-13.122353\n",
      "\n"
     ]
    }
   ],
   "source": [
    "path = os.getcwd()\n",
    "name_file = path + name_file\n",
    "with open(name_file) as f:\n",
    "    arrs = f.readlines()\n",
    "\n",
    "print(arrs[0])"
   ]
  },
  {
   "cell_type": "code",
   "execution_count": 9,
   "metadata": {},
   "outputs": [],
   "source": [
    "dictx_m = {}\n",
    "dicty_m = {}\n",
    "ms = []\n",
    "eps = []\n",
    "Cs = []\n",
    "\n",
    "for a in arrs:\n",
    "    s = a.split(\";\")\n",
    "    m = int(s[0])\n",
    "    ep = float(s[1])    \n",
    "    C = float(s[2])\n",
    "    x = 0\n",
    "    y = 0\n",
    "    if C != 0:\n",
    "        if ep != 0:\n",
    "            x = ep\n",
    "            y = C\n",
    "    if m in dictx_m:\n",
    "        dictx_m[m].append(x)\n",
    "        dicty_m[m].append(y)\n",
    "    else:\n",
    "        dictx_m[m] = [x]\n",
    "        dicty_m[m] = [y]\n",
    "            "
   ]
  },
  {
   "cell_type": "code",
   "execution_count": 10,
   "metadata": {},
   "outputs": [
    {
     "data": {
      "application/vnd.plotly.v1+json": {
       "config": {
        "plotlyServerURL": "https://plot.ly"
       },
       "data": [
        {
         "hoverinfo": "all",
         "marker": {
          "colorscale": [
           [
            0,
            "rgb(247,251,255)"
           ],
           [
            0.125,
            "rgb(222,235,247)"
           ],
           [
            0.25,
            "rgb(198,219,239)"
           ],
           [
            0.375,
            "rgb(158,202,225)"
           ],
           [
            0.5,
            "rgb(107,174,214)"
           ],
           [
            0.625,
            "rgb(66,146,198)"
           ],
           [
            0.75,
            "rgb(33,113,181)"
           ],
           [
            0.875,
            "rgb(8,81,156)"
           ],
           [
            1,
            "rgb(8,48,107)"
           ]
          ],
          "opacity": 0.9,
          "reversescale": true,
          "size": 3
         },
         "mode": "markers",
         "name": "m = 1",
         "type": "scatter",
         "x": [
          -4.50986,
          -4.41455,
          -4.31924,
          -4.223929,
          -4.128619,
          -4.033309,
          -3.937999,
          -3.842689,
          -3.747379,
          -3.652068,
          -3.556758,
          -3.461448,
          -3.366138,
          -3.270828,
          -3.175517,
          -3.080207,
          -2.984897,
          -2.889587,
          -2.794277,
          -2.698967,
          -2.603656,
          -2.508346,
          -2.413036,
          -2.317726,
          -2.222416,
          -2.127106,
          -2.031795,
          -1.936485,
          -1.841175,
          -1.745865,
          -1.650555,
          -1.555244,
          -1.459934,
          -1.364624,
          -1.269314,
          -1.174004,
          -1.078694,
          -0.983383,
          -0.888073,
          -0.792763,
          -0.697453,
          -0.602143,
          -0.506832,
          -0.411522,
          -0.316212,
          -0.220902,
          -0.125592,
          -0.030282,
          0.065029
         ],
         "y": [
          -13.122353,
          -13.122353,
          -13.122353,
          -13.122353,
          -13.122353,
          -13.122353,
          -13.122353,
          -13.122353,
          -13.122353,
          -13.122353,
          -13.122353,
          -13.122353,
          -13.122353,
          -13.122353,
          -13.122353,
          -13.122353,
          -13.122353,
          -13.122353,
          -13.122353,
          -13.122353,
          -13.122353,
          -13.122353,
          -13.122353,
          -13.122353,
          -13.122353,
          -13.122353,
          -13.122353,
          -13.122353,
          -13.122353,
          -13.122353,
          -13.122353,
          -13.122353,
          -13.122353,
          -13.122353,
          -13.122353,
          -13.122353,
          -13.122353,
          -13.122353,
          -13.122353,
          -13.122353,
          -13.122353,
          -13.122353,
          -13.122353,
          -13.122353,
          -13.122353,
          -13.122353,
          -13.122353,
          -13.122353,
          -13.122353
         ]
        },
        {
         "hoverinfo": "all",
         "marker": {
          "colorscale": [
           [
            0,
            "rgb(247,251,255)"
           ],
           [
            0.125,
            "rgb(222,235,247)"
           ],
           [
            0.25,
            "rgb(198,219,239)"
           ],
           [
            0.375,
            "rgb(158,202,225)"
           ],
           [
            0.5,
            "rgb(107,174,214)"
           ],
           [
            0.625,
            "rgb(66,146,198)"
           ],
           [
            0.75,
            "rgb(33,113,181)"
           ],
           [
            0.875,
            "rgb(8,81,156)"
           ],
           [
            1,
            "rgb(8,48,107)"
           ]
          ],
          "opacity": 0.9,
          "reversescale": true,
          "size": 3
         },
         "mode": "markers",
         "name": "m = 2",
         "type": "scatter",
         "x": [
          -4.50986,
          -4.41455,
          -4.31924,
          -4.223929,
          -4.128619,
          -4.033309,
          -3.937999,
          -3.842689,
          -3.747379,
          -3.652068,
          -3.556758,
          -3.461448,
          -3.366138,
          -3.270828,
          -3.175517,
          -3.080207,
          -2.984897,
          -2.889587,
          -2.794277,
          -2.698967,
          -2.603656,
          -2.508346,
          -2.413036,
          -2.317726,
          -2.222416,
          -2.127106,
          -2.031795,
          -1.936485,
          -1.841175,
          -1.745865,
          -1.650555,
          -1.555244,
          -1.459934,
          -1.364624,
          -1.269314,
          -1.174004,
          -1.078694,
          -0.983383,
          -0.888073,
          -0.792763,
          -0.697453,
          -0.602143,
          -0.506832,
          -0.411522,
          -0.316212,
          -0.220902,
          -0.125592,
          -0.030282,
          0.065029
         ],
         "y": [
          -13.122343,
          -13.122343,
          -13.122343,
          -13.122343,
          -13.122343,
          -13.122343,
          -13.122343,
          -13.122343,
          -13.122343,
          -13.122343,
          -13.122343,
          -13.122343,
          -13.122343,
          -13.122343,
          -13.122343,
          -13.122343,
          -13.122343,
          -13.122343,
          -13.122343,
          -13.122343,
          -13.122343,
          -13.122343,
          -13.122343,
          -13.122343,
          -13.122343,
          -13.122343,
          -13.122343,
          -13.122343,
          -13.122343,
          -13.122343,
          -13.122343,
          -13.122343,
          -13.122343,
          -13.122343,
          -13.122343,
          -13.122343,
          -13.122343,
          -13.122343,
          -13.122343,
          -13.122343,
          -13.122343,
          -13.122343,
          -13.122343,
          -13.122343,
          -13.122343,
          -13.122343,
          -13.122343,
          -13.122343,
          -13.122343
         ]
        },
        {
         "hoverinfo": "all",
         "marker": {
          "colorscale": [
           [
            0,
            "rgb(247,251,255)"
           ],
           [
            0.125,
            "rgb(222,235,247)"
           ],
           [
            0.25,
            "rgb(198,219,239)"
           ],
           [
            0.375,
            "rgb(158,202,225)"
           ],
           [
            0.5,
            "rgb(107,174,214)"
           ],
           [
            0.625,
            "rgb(66,146,198)"
           ],
           [
            0.75,
            "rgb(33,113,181)"
           ],
           [
            0.875,
            "rgb(8,81,156)"
           ],
           [
            1,
            "rgb(8,48,107)"
           ]
          ],
          "opacity": 0.9,
          "reversescale": true,
          "size": 3
         },
         "mode": "markers",
         "name": "m = 3",
         "type": "scatter",
         "x": [
          -4.50986,
          -4.41455,
          -4.31924,
          -4.223929,
          -4.128619,
          -4.033309,
          -3.937999,
          -3.842689,
          -3.747379,
          -3.652068,
          -3.556758,
          -3.461448,
          -3.366138,
          -3.270828,
          -3.175517,
          -3.080207,
          -2.984897,
          -2.889587,
          -2.794277,
          -2.698967,
          -2.603656,
          -2.508346,
          -2.413036,
          -2.317726,
          -2.222416,
          -2.127106,
          -2.031795,
          -1.936485,
          -1.841175,
          -1.745865,
          -1.650555,
          -1.555244,
          -1.459934,
          -1.364624,
          -1.269314,
          -1.174004,
          -1.078694,
          -0.983383,
          -0.888073,
          -0.792763,
          -0.697453,
          -0.602143,
          -0.506832,
          -0.411522,
          -0.316212,
          -0.220902,
          -0.125592,
          -0.030282,
          0.065029
         ],
         "y": [
          -13.122333,
          -13.122333,
          -13.122333,
          -13.122333,
          -13.122333,
          -13.122333,
          -13.122333,
          -13.122333,
          -13.122333,
          -13.122333,
          -13.122333,
          -13.122333,
          -13.122333,
          -13.122333,
          -13.122333,
          -13.122333,
          -13.122333,
          -13.122333,
          -13.122333,
          -13.122333,
          -13.122333,
          -13.122333,
          -13.122333,
          -13.122333,
          -13.122333,
          -13.122333,
          -13.122333,
          -13.122333,
          -13.122333,
          -13.122333,
          -13.122333,
          -13.122333,
          -13.122333,
          -13.122333,
          -13.122333,
          -13.122333,
          -13.122333,
          -13.122333,
          -13.122333,
          -13.122333,
          -13.122333,
          -13.122333,
          -13.122333,
          -13.122333,
          -13.122333,
          -13.122333,
          -13.122333,
          -13.122333,
          -13.122333
         ]
        },
        {
         "hoverinfo": "all",
         "marker": {
          "colorscale": [
           [
            0,
            "rgb(247,251,255)"
           ],
           [
            0.125,
            "rgb(222,235,247)"
           ],
           [
            0.25,
            "rgb(198,219,239)"
           ],
           [
            0.375,
            "rgb(158,202,225)"
           ],
           [
            0.5,
            "rgb(107,174,214)"
           ],
           [
            0.625,
            "rgb(66,146,198)"
           ],
           [
            0.75,
            "rgb(33,113,181)"
           ],
           [
            0.875,
            "rgb(8,81,156)"
           ],
           [
            1,
            "rgb(8,48,107)"
           ]
          ],
          "opacity": 0.9,
          "reversescale": true,
          "size": 3
         },
         "mode": "markers",
         "name": "m = 4",
         "type": "scatter",
         "x": [
          -4.50986,
          -4.41455,
          -4.31924,
          -4.223929,
          -4.128619,
          -4.033309,
          -3.937999,
          -3.842689,
          -3.747379,
          -3.652068,
          -3.556758,
          -3.461448,
          -3.366138,
          -3.270828,
          -3.175517,
          -3.080207,
          -2.984897,
          -2.889587,
          -2.794277,
          -2.698967,
          -2.603656,
          -2.508346,
          -2.413036,
          -2.317726,
          -2.222416,
          -2.127106,
          -2.031795,
          -1.936485,
          -1.841175,
          -1.745865,
          -1.650555,
          -1.555244,
          -1.459934,
          -1.364624,
          -1.269314,
          -1.174004,
          -1.078694,
          -0.983383,
          -0.888073,
          -0.792763,
          -0.697453,
          -0.602143,
          -0.506832,
          -0.411522,
          -0.316212,
          -0.220902,
          -0.125592,
          -0.030282,
          0.065029
         ],
         "y": [
          -13.122323,
          -13.122323,
          -13.122323,
          -13.122323,
          -13.122323,
          -13.122323,
          -13.122323,
          -13.122323,
          -13.122323,
          -13.122323,
          -13.122323,
          -13.122323,
          -13.122323,
          -13.122323,
          -13.122323,
          -13.122323,
          -13.122323,
          -13.122323,
          -13.122323,
          -13.122323,
          -13.122323,
          -13.122323,
          -13.122323,
          -13.122323,
          -13.122323,
          -13.122323,
          -13.122323,
          -13.122323,
          -13.122323,
          -13.122323,
          -13.122323,
          -13.122323,
          -13.122323,
          -13.122323,
          -13.122323,
          -13.122323,
          -13.122323,
          -13.122323,
          -13.122323,
          -13.122323,
          -13.122323,
          -13.122323,
          -13.122323,
          -13.122323,
          -13.122323,
          -13.122323,
          -13.122323,
          -13.122323,
          -13.122323
         ]
        },
        {
         "hoverinfo": "all",
         "marker": {
          "colorscale": [
           [
            0,
            "rgb(247,251,255)"
           ],
           [
            0.125,
            "rgb(222,235,247)"
           ],
           [
            0.25,
            "rgb(198,219,239)"
           ],
           [
            0.375,
            "rgb(158,202,225)"
           ],
           [
            0.5,
            "rgb(107,174,214)"
           ],
           [
            0.625,
            "rgb(66,146,198)"
           ],
           [
            0.75,
            "rgb(33,113,181)"
           ],
           [
            0.875,
            "rgb(8,81,156)"
           ],
           [
            1,
            "rgb(8,48,107)"
           ]
          ],
          "opacity": 0.9,
          "reversescale": true,
          "size": 3
         },
         "mode": "markers",
         "name": "m = 5",
         "type": "scatter",
         "x": [
          -4.50986,
          -4.41455,
          -4.31924,
          -4.223929,
          -4.128619,
          -4.033309,
          -3.937999,
          -3.842689,
          -3.747379,
          -3.652068,
          -3.556758,
          -3.461448,
          -3.366138,
          -3.270828,
          -3.175517,
          -3.080207,
          -2.984897,
          -2.889587,
          -2.794277,
          -2.698967,
          -2.603656,
          -2.508346,
          -2.413036,
          -2.317726,
          -2.222416,
          -2.127106,
          -2.031795,
          -1.936485,
          -1.841175,
          -1.745865,
          -1.650555,
          -1.555244,
          -1.459934,
          -1.364624,
          -1.269314,
          -1.174004,
          -1.078694,
          -0.983383,
          -0.888073,
          -0.792763,
          -0.697453,
          -0.602143,
          -0.506832,
          -0.411522,
          -0.316212,
          -0.220902,
          -0.125592,
          -0.030282,
          0.065029
         ],
         "y": [
          -13.122313,
          -13.122313,
          -13.122313,
          -13.122313,
          -13.122313,
          -13.122313,
          -13.122313,
          -13.122313,
          -13.122313,
          -13.122313,
          -13.122313,
          -13.122313,
          -13.122313,
          -13.122313,
          -13.122313,
          -13.122313,
          -13.122313,
          -13.122313,
          -13.122313,
          -13.122313,
          -13.122313,
          -13.122313,
          -13.122313,
          -13.122313,
          -13.122313,
          -13.122313,
          -13.122313,
          -13.122313,
          -13.122313,
          -13.122313,
          -13.122313,
          -13.122313,
          -13.122313,
          -13.122313,
          -13.122313,
          -13.122313,
          -13.122313,
          -13.122313,
          -13.122313,
          -13.122313,
          -13.122313,
          -13.122313,
          -13.122313,
          -13.122313,
          -13.122313,
          -13.122313,
          -13.122313,
          -13.122313,
          -13.122313
         ]
        }
       ],
       "layout": {
        "autosize": true,
        "hovermode": "x unified",
        "legend": {
         "orientation": "h",
         "x": 0.5,
         "xanchor": "center"
        },
        "margin": {
         "b": 0,
         "l": 0,
         "pad": 2,
         "r": 0,
         "t": 30
        },
        "template": {
         "data": {
          "bar": [
           {
            "error_x": {
             "color": "#2a3f5f"
            },
            "error_y": {
             "color": "#2a3f5f"
            },
            "marker": {
             "line": {
              "color": "#E5ECF6",
              "width": 0.5
             }
            },
            "type": "bar"
           }
          ],
          "barpolar": [
           {
            "marker": {
             "line": {
              "color": "#E5ECF6",
              "width": 0.5
             }
            },
            "type": "barpolar"
           }
          ],
          "carpet": [
           {
            "aaxis": {
             "endlinecolor": "#2a3f5f",
             "gridcolor": "white",
             "linecolor": "white",
             "minorgridcolor": "white",
             "startlinecolor": "#2a3f5f"
            },
            "baxis": {
             "endlinecolor": "#2a3f5f",
             "gridcolor": "white",
             "linecolor": "white",
             "minorgridcolor": "white",
             "startlinecolor": "#2a3f5f"
            },
            "type": "carpet"
           }
          ],
          "choropleth": [
           {
            "colorbar": {
             "outlinewidth": 0,
             "ticks": ""
            },
            "type": "choropleth"
           }
          ],
          "contour": [
           {
            "colorbar": {
             "outlinewidth": 0,
             "ticks": ""
            },
            "colorscale": [
             [
              0,
              "#0d0887"
             ],
             [
              0.1111111111111111,
              "#46039f"
             ],
             [
              0.2222222222222222,
              "#7201a8"
             ],
             [
              0.3333333333333333,
              "#9c179e"
             ],
             [
              0.4444444444444444,
              "#bd3786"
             ],
             [
              0.5555555555555556,
              "#d8576b"
             ],
             [
              0.6666666666666666,
              "#ed7953"
             ],
             [
              0.7777777777777778,
              "#fb9f3a"
             ],
             [
              0.8888888888888888,
              "#fdca26"
             ],
             [
              1,
              "#f0f921"
             ]
            ],
            "type": "contour"
           }
          ],
          "contourcarpet": [
           {
            "colorbar": {
             "outlinewidth": 0,
             "ticks": ""
            },
            "type": "contourcarpet"
           }
          ],
          "heatmap": [
           {
            "colorbar": {
             "outlinewidth": 0,
             "ticks": ""
            },
            "colorscale": [
             [
              0,
              "#0d0887"
             ],
             [
              0.1111111111111111,
              "#46039f"
             ],
             [
              0.2222222222222222,
              "#7201a8"
             ],
             [
              0.3333333333333333,
              "#9c179e"
             ],
             [
              0.4444444444444444,
              "#bd3786"
             ],
             [
              0.5555555555555556,
              "#d8576b"
             ],
             [
              0.6666666666666666,
              "#ed7953"
             ],
             [
              0.7777777777777778,
              "#fb9f3a"
             ],
             [
              0.8888888888888888,
              "#fdca26"
             ],
             [
              1,
              "#f0f921"
             ]
            ],
            "type": "heatmap"
           }
          ],
          "heatmapgl": [
           {
            "colorbar": {
             "outlinewidth": 0,
             "ticks": ""
            },
            "colorscale": [
             [
              0,
              "#0d0887"
             ],
             [
              0.1111111111111111,
              "#46039f"
             ],
             [
              0.2222222222222222,
              "#7201a8"
             ],
             [
              0.3333333333333333,
              "#9c179e"
             ],
             [
              0.4444444444444444,
              "#bd3786"
             ],
             [
              0.5555555555555556,
              "#d8576b"
             ],
             [
              0.6666666666666666,
              "#ed7953"
             ],
             [
              0.7777777777777778,
              "#fb9f3a"
             ],
             [
              0.8888888888888888,
              "#fdca26"
             ],
             [
              1,
              "#f0f921"
             ]
            ],
            "type": "heatmapgl"
           }
          ],
          "histogram": [
           {
            "marker": {
             "colorbar": {
              "outlinewidth": 0,
              "ticks": ""
             }
            },
            "type": "histogram"
           }
          ],
          "histogram2d": [
           {
            "colorbar": {
             "outlinewidth": 0,
             "ticks": ""
            },
            "colorscale": [
             [
              0,
              "#0d0887"
             ],
             [
              0.1111111111111111,
              "#46039f"
             ],
             [
              0.2222222222222222,
              "#7201a8"
             ],
             [
              0.3333333333333333,
              "#9c179e"
             ],
             [
              0.4444444444444444,
              "#bd3786"
             ],
             [
              0.5555555555555556,
              "#d8576b"
             ],
             [
              0.6666666666666666,
              "#ed7953"
             ],
             [
              0.7777777777777778,
              "#fb9f3a"
             ],
             [
              0.8888888888888888,
              "#fdca26"
             ],
             [
              1,
              "#f0f921"
             ]
            ],
            "type": "histogram2d"
           }
          ],
          "histogram2dcontour": [
           {
            "colorbar": {
             "outlinewidth": 0,
             "ticks": ""
            },
            "colorscale": [
             [
              0,
              "#0d0887"
             ],
             [
              0.1111111111111111,
              "#46039f"
             ],
             [
              0.2222222222222222,
              "#7201a8"
             ],
             [
              0.3333333333333333,
              "#9c179e"
             ],
             [
              0.4444444444444444,
              "#bd3786"
             ],
             [
              0.5555555555555556,
              "#d8576b"
             ],
             [
              0.6666666666666666,
              "#ed7953"
             ],
             [
              0.7777777777777778,
              "#fb9f3a"
             ],
             [
              0.8888888888888888,
              "#fdca26"
             ],
             [
              1,
              "#f0f921"
             ]
            ],
            "type": "histogram2dcontour"
           }
          ],
          "mesh3d": [
           {
            "colorbar": {
             "outlinewidth": 0,
             "ticks": ""
            },
            "type": "mesh3d"
           }
          ],
          "parcoords": [
           {
            "line": {
             "colorbar": {
              "outlinewidth": 0,
              "ticks": ""
             }
            },
            "type": "parcoords"
           }
          ],
          "pie": [
           {
            "automargin": true,
            "type": "pie"
           }
          ],
          "scatter": [
           {
            "marker": {
             "colorbar": {
              "outlinewidth": 0,
              "ticks": ""
             }
            },
            "type": "scatter"
           }
          ],
          "scatter3d": [
           {
            "line": {
             "colorbar": {
              "outlinewidth": 0,
              "ticks": ""
             }
            },
            "marker": {
             "colorbar": {
              "outlinewidth": 0,
              "ticks": ""
             }
            },
            "type": "scatter3d"
           }
          ],
          "scattercarpet": [
           {
            "marker": {
             "colorbar": {
              "outlinewidth": 0,
              "ticks": ""
             }
            },
            "type": "scattercarpet"
           }
          ],
          "scattergeo": [
           {
            "marker": {
             "colorbar": {
              "outlinewidth": 0,
              "ticks": ""
             }
            },
            "type": "scattergeo"
           }
          ],
          "scattergl": [
           {
            "marker": {
             "colorbar": {
              "outlinewidth": 0,
              "ticks": ""
             }
            },
            "type": "scattergl"
           }
          ],
          "scattermapbox": [
           {
            "marker": {
             "colorbar": {
              "outlinewidth": 0,
              "ticks": ""
             }
            },
            "type": "scattermapbox"
           }
          ],
          "scatterpolar": [
           {
            "marker": {
             "colorbar": {
              "outlinewidth": 0,
              "ticks": ""
             }
            },
            "type": "scatterpolar"
           }
          ],
          "scatterpolargl": [
           {
            "marker": {
             "colorbar": {
              "outlinewidth": 0,
              "ticks": ""
             }
            },
            "type": "scatterpolargl"
           }
          ],
          "scatterternary": [
           {
            "marker": {
             "colorbar": {
              "outlinewidth": 0,
              "ticks": ""
             }
            },
            "type": "scatterternary"
           }
          ],
          "surface": [
           {
            "colorbar": {
             "outlinewidth": 0,
             "ticks": ""
            },
            "colorscale": [
             [
              0,
              "#0d0887"
             ],
             [
              0.1111111111111111,
              "#46039f"
             ],
             [
              0.2222222222222222,
              "#7201a8"
             ],
             [
              0.3333333333333333,
              "#9c179e"
             ],
             [
              0.4444444444444444,
              "#bd3786"
             ],
             [
              0.5555555555555556,
              "#d8576b"
             ],
             [
              0.6666666666666666,
              "#ed7953"
             ],
             [
              0.7777777777777778,
              "#fb9f3a"
             ],
             [
              0.8888888888888888,
              "#fdca26"
             ],
             [
              1,
              "#f0f921"
             ]
            ],
            "type": "surface"
           }
          ],
          "table": [
           {
            "cells": {
             "fill": {
              "color": "#EBF0F8"
             },
             "line": {
              "color": "white"
             }
            },
            "header": {
             "fill": {
              "color": "#C8D4E3"
             },
             "line": {
              "color": "white"
             }
            },
            "type": "table"
           }
          ]
         },
         "layout": {
          "annotationdefaults": {
           "arrowcolor": "#2a3f5f",
           "arrowhead": 0,
           "arrowwidth": 1
          },
          "coloraxis": {
           "colorbar": {
            "outlinewidth": 0,
            "ticks": ""
           }
          },
          "colorscale": {
           "diverging": [
            [
             0,
             "#8e0152"
            ],
            [
             0.1,
             "#c51b7d"
            ],
            [
             0.2,
             "#de77ae"
            ],
            [
             0.3,
             "#f1b6da"
            ],
            [
             0.4,
             "#fde0ef"
            ],
            [
             0.5,
             "#f7f7f7"
            ],
            [
             0.6,
             "#e6f5d0"
            ],
            [
             0.7,
             "#b8e186"
            ],
            [
             0.8,
             "#7fbc41"
            ],
            [
             0.9,
             "#4d9221"
            ],
            [
             1,
             "#276419"
            ]
           ],
           "sequential": [
            [
             0,
             "#0d0887"
            ],
            [
             0.1111111111111111,
             "#46039f"
            ],
            [
             0.2222222222222222,
             "#7201a8"
            ],
            [
             0.3333333333333333,
             "#9c179e"
            ],
            [
             0.4444444444444444,
             "#bd3786"
            ],
            [
             0.5555555555555556,
             "#d8576b"
            ],
            [
             0.6666666666666666,
             "#ed7953"
            ],
            [
             0.7777777777777778,
             "#fb9f3a"
            ],
            [
             0.8888888888888888,
             "#fdca26"
            ],
            [
             1,
             "#f0f921"
            ]
           ],
           "sequentialminus": [
            [
             0,
             "#0d0887"
            ],
            [
             0.1111111111111111,
             "#46039f"
            ],
            [
             0.2222222222222222,
             "#7201a8"
            ],
            [
             0.3333333333333333,
             "#9c179e"
            ],
            [
             0.4444444444444444,
             "#bd3786"
            ],
            [
             0.5555555555555556,
             "#d8576b"
            ],
            [
             0.6666666666666666,
             "#ed7953"
            ],
            [
             0.7777777777777778,
             "#fb9f3a"
            ],
            [
             0.8888888888888888,
             "#fdca26"
            ],
            [
             1,
             "#f0f921"
            ]
           ]
          },
          "colorway": [
           "#636efa",
           "#EF553B",
           "#00cc96",
           "#ab63fa",
           "#FFA15A",
           "#19d3f3",
           "#FF6692",
           "#B6E880",
           "#FF97FF",
           "#FECB52"
          ],
          "font": {
           "color": "#2a3f5f"
          },
          "geo": {
           "bgcolor": "white",
           "lakecolor": "white",
           "landcolor": "#E5ECF6",
           "showlakes": true,
           "showland": true,
           "subunitcolor": "white"
          },
          "hoverlabel": {
           "align": "left"
          },
          "hovermode": "closest",
          "mapbox": {
           "style": "light"
          },
          "paper_bgcolor": "white",
          "plot_bgcolor": "#E5ECF6",
          "polar": {
           "angularaxis": {
            "gridcolor": "white",
            "linecolor": "white",
            "ticks": ""
           },
           "bgcolor": "#E5ECF6",
           "radialaxis": {
            "gridcolor": "white",
            "linecolor": "white",
            "ticks": ""
           }
          },
          "scene": {
           "xaxis": {
            "backgroundcolor": "#E5ECF6",
            "gridcolor": "white",
            "gridwidth": 2,
            "linecolor": "white",
            "showbackground": true,
            "ticks": "",
            "zerolinecolor": "white"
           },
           "yaxis": {
            "backgroundcolor": "#E5ECF6",
            "gridcolor": "white",
            "gridwidth": 2,
            "linecolor": "white",
            "showbackground": true,
            "ticks": "",
            "zerolinecolor": "white"
           },
           "zaxis": {
            "backgroundcolor": "#E5ECF6",
            "gridcolor": "white",
            "gridwidth": 2,
            "linecolor": "white",
            "showbackground": true,
            "ticks": "",
            "zerolinecolor": "white"
           }
          },
          "shapedefaults": {
           "line": {
            "color": "#2a3f5f"
           }
          },
          "ternary": {
           "aaxis": {
            "gridcolor": "white",
            "linecolor": "white",
            "ticks": ""
           },
           "baxis": {
            "gridcolor": "white",
            "linecolor": "white",
            "ticks": ""
           },
           "bgcolor": "#E5ECF6",
           "caxis": {
            "gridcolor": "white",
            "linecolor": "white",
            "ticks": ""
           }
          },
          "title": {
           "x": 0.05
          },
          "xaxis": {
           "automargin": true,
           "gridcolor": "white",
           "linecolor": "white",
           "ticks": "",
           "title": {
            "standoff": 15
           },
           "zerolinecolor": "white",
           "zerolinewidth": 2
          },
          "yaxis": {
           "automargin": true,
           "gridcolor": "white",
           "linecolor": "white",
           "ticks": "",
           "title": {
            "standoff": 15
           },
           "zerolinecolor": "white",
           "zerolinewidth": 2
          }
         }
        }
       }
      },
      "text/html": [
       "<div>                            <div id=\"1993e5f4-731e-441b-9c0e-c698680662a3\" class=\"plotly-graph-div\" style=\"height:525px; width:100%;\"></div>            <script type=\"text/javascript\">                require([\"plotly\"], function(Plotly) {                    window.PLOTLYENV=window.PLOTLYENV || {};                                    if (document.getElementById(\"1993e5f4-731e-441b-9c0e-c698680662a3\")) {                    Plotly.newPlot(                        \"1993e5f4-731e-441b-9c0e-c698680662a3\",                        [{\"hoverinfo\": \"all\", \"marker\": {\"colorscale\": [[0.0, \"rgb(247,251,255)\"], [0.125, \"rgb(222,235,247)\"], [0.25, \"rgb(198,219,239)\"], [0.375, \"rgb(158,202,225)\"], [0.5, \"rgb(107,174,214)\"], [0.625, \"rgb(66,146,198)\"], [0.75, \"rgb(33,113,181)\"], [0.875, \"rgb(8,81,156)\"], [1.0, \"rgb(8,48,107)\"]], \"opacity\": 0.9, \"reversescale\": true, \"size\": 3}, \"mode\": \"markers\", \"name\": \"m = 1\", \"type\": \"scatter\", \"x\": [-4.50986, -4.41455, -4.31924, -4.223929, -4.128619, -4.033309, -3.937999, -3.842689, -3.747379, -3.652068, -3.556758, -3.461448, -3.366138, -3.270828, -3.175517, -3.080207, -2.984897, -2.889587, -2.794277, -2.698967, -2.603656, -2.508346, -2.413036, -2.317726, -2.222416, -2.127106, -2.031795, -1.936485, -1.841175, -1.745865, -1.650555, -1.555244, -1.459934, -1.364624, -1.269314, -1.174004, -1.078694, -0.983383, -0.888073, -0.792763, -0.697453, -0.602143, -0.506832, -0.411522, -0.316212, -0.220902, -0.125592, -0.030282, 0.065029], \"y\": [-13.122353, -13.122353, -13.122353, -13.122353, -13.122353, -13.122353, -13.122353, -13.122353, -13.122353, -13.122353, -13.122353, -13.122353, -13.122353, -13.122353, -13.122353, -13.122353, -13.122353, -13.122353, -13.122353, -13.122353, -13.122353, -13.122353, -13.122353, -13.122353, -13.122353, -13.122353, -13.122353, -13.122353, -13.122353, -13.122353, -13.122353, -13.122353, -13.122353, -13.122353, -13.122353, -13.122353, -13.122353, -13.122353, -13.122353, -13.122353, -13.122353, -13.122353, -13.122353, -13.122353, -13.122353, -13.122353, -13.122353, -13.122353, -13.122353]}, {\"hoverinfo\": \"all\", \"marker\": {\"colorscale\": [[0.0, \"rgb(247,251,255)\"], [0.125, \"rgb(222,235,247)\"], [0.25, \"rgb(198,219,239)\"], [0.375, \"rgb(158,202,225)\"], [0.5, \"rgb(107,174,214)\"], [0.625, \"rgb(66,146,198)\"], [0.75, \"rgb(33,113,181)\"], [0.875, \"rgb(8,81,156)\"], [1.0, \"rgb(8,48,107)\"]], \"opacity\": 0.9, \"reversescale\": true, \"size\": 3}, \"mode\": \"markers\", \"name\": \"m = 2\", \"type\": \"scatter\", \"x\": [-4.50986, -4.41455, -4.31924, -4.223929, -4.128619, -4.033309, -3.937999, -3.842689, -3.747379, -3.652068, -3.556758, -3.461448, -3.366138, -3.270828, -3.175517, -3.080207, -2.984897, -2.889587, -2.794277, -2.698967, -2.603656, -2.508346, -2.413036, -2.317726, -2.222416, -2.127106, -2.031795, -1.936485, -1.841175, -1.745865, -1.650555, -1.555244, -1.459934, -1.364624, -1.269314, -1.174004, -1.078694, -0.983383, -0.888073, -0.792763, -0.697453, -0.602143, -0.506832, -0.411522, -0.316212, -0.220902, -0.125592, -0.030282, 0.065029], \"y\": [-13.122343, -13.122343, -13.122343, -13.122343, -13.122343, -13.122343, -13.122343, -13.122343, -13.122343, -13.122343, -13.122343, -13.122343, -13.122343, -13.122343, -13.122343, -13.122343, -13.122343, -13.122343, -13.122343, -13.122343, -13.122343, -13.122343, -13.122343, -13.122343, -13.122343, -13.122343, -13.122343, -13.122343, -13.122343, -13.122343, -13.122343, -13.122343, -13.122343, -13.122343, -13.122343, -13.122343, -13.122343, -13.122343, -13.122343, -13.122343, -13.122343, -13.122343, -13.122343, -13.122343, -13.122343, -13.122343, -13.122343, -13.122343, -13.122343]}, {\"hoverinfo\": \"all\", \"marker\": {\"colorscale\": [[0.0, \"rgb(247,251,255)\"], [0.125, \"rgb(222,235,247)\"], [0.25, \"rgb(198,219,239)\"], [0.375, \"rgb(158,202,225)\"], [0.5, \"rgb(107,174,214)\"], [0.625, \"rgb(66,146,198)\"], [0.75, \"rgb(33,113,181)\"], [0.875, \"rgb(8,81,156)\"], [1.0, \"rgb(8,48,107)\"]], \"opacity\": 0.9, \"reversescale\": true, \"size\": 3}, \"mode\": \"markers\", \"name\": \"m = 3\", \"type\": \"scatter\", \"x\": [-4.50986, -4.41455, -4.31924, -4.223929, -4.128619, -4.033309, -3.937999, -3.842689, -3.747379, -3.652068, -3.556758, -3.461448, -3.366138, -3.270828, -3.175517, -3.080207, -2.984897, -2.889587, -2.794277, -2.698967, -2.603656, -2.508346, -2.413036, -2.317726, -2.222416, -2.127106, -2.031795, -1.936485, -1.841175, -1.745865, -1.650555, -1.555244, -1.459934, -1.364624, -1.269314, -1.174004, -1.078694, -0.983383, -0.888073, -0.792763, -0.697453, -0.602143, -0.506832, -0.411522, -0.316212, -0.220902, -0.125592, -0.030282, 0.065029], \"y\": [-13.122333, -13.122333, -13.122333, -13.122333, -13.122333, -13.122333, -13.122333, -13.122333, -13.122333, -13.122333, -13.122333, -13.122333, -13.122333, -13.122333, -13.122333, -13.122333, -13.122333, -13.122333, -13.122333, -13.122333, -13.122333, -13.122333, -13.122333, -13.122333, -13.122333, -13.122333, -13.122333, -13.122333, -13.122333, -13.122333, -13.122333, -13.122333, -13.122333, -13.122333, -13.122333, -13.122333, -13.122333, -13.122333, -13.122333, -13.122333, -13.122333, -13.122333, -13.122333, -13.122333, -13.122333, -13.122333, -13.122333, -13.122333, -13.122333]}, {\"hoverinfo\": \"all\", \"marker\": {\"colorscale\": [[0.0, \"rgb(247,251,255)\"], [0.125, \"rgb(222,235,247)\"], [0.25, \"rgb(198,219,239)\"], [0.375, \"rgb(158,202,225)\"], [0.5, \"rgb(107,174,214)\"], [0.625, \"rgb(66,146,198)\"], [0.75, \"rgb(33,113,181)\"], [0.875, \"rgb(8,81,156)\"], [1.0, \"rgb(8,48,107)\"]], \"opacity\": 0.9, \"reversescale\": true, \"size\": 3}, \"mode\": \"markers\", \"name\": \"m = 4\", \"type\": \"scatter\", \"x\": [-4.50986, -4.41455, -4.31924, -4.223929, -4.128619, -4.033309, -3.937999, -3.842689, -3.747379, -3.652068, -3.556758, -3.461448, -3.366138, -3.270828, -3.175517, -3.080207, -2.984897, -2.889587, -2.794277, -2.698967, -2.603656, -2.508346, -2.413036, -2.317726, -2.222416, -2.127106, -2.031795, -1.936485, -1.841175, -1.745865, -1.650555, -1.555244, -1.459934, -1.364624, -1.269314, -1.174004, -1.078694, -0.983383, -0.888073, -0.792763, -0.697453, -0.602143, -0.506832, -0.411522, -0.316212, -0.220902, -0.125592, -0.030282, 0.065029], \"y\": [-13.122323, -13.122323, -13.122323, -13.122323, -13.122323, -13.122323, -13.122323, -13.122323, -13.122323, -13.122323, -13.122323, -13.122323, -13.122323, -13.122323, -13.122323, -13.122323, -13.122323, -13.122323, -13.122323, -13.122323, -13.122323, -13.122323, -13.122323, -13.122323, -13.122323, -13.122323, -13.122323, -13.122323, -13.122323, -13.122323, -13.122323, -13.122323, -13.122323, -13.122323, -13.122323, -13.122323, -13.122323, -13.122323, -13.122323, -13.122323, -13.122323, -13.122323, -13.122323, -13.122323, -13.122323, -13.122323, -13.122323, -13.122323, -13.122323]}, {\"hoverinfo\": \"all\", \"marker\": {\"colorscale\": [[0.0, \"rgb(247,251,255)\"], [0.125, \"rgb(222,235,247)\"], [0.25, \"rgb(198,219,239)\"], [0.375, \"rgb(158,202,225)\"], [0.5, \"rgb(107,174,214)\"], [0.625, \"rgb(66,146,198)\"], [0.75, \"rgb(33,113,181)\"], [0.875, \"rgb(8,81,156)\"], [1.0, \"rgb(8,48,107)\"]], \"opacity\": 0.9, \"reversescale\": true, \"size\": 3}, \"mode\": \"markers\", \"name\": \"m = 5\", \"type\": \"scatter\", \"x\": [-4.50986, -4.41455, -4.31924, -4.223929, -4.128619, -4.033309, -3.937999, -3.842689, -3.747379, -3.652068, -3.556758, -3.461448, -3.366138, -3.270828, -3.175517, -3.080207, -2.984897, -2.889587, -2.794277, -2.698967, -2.603656, -2.508346, -2.413036, -2.317726, -2.222416, -2.127106, -2.031795, -1.936485, -1.841175, -1.745865, -1.650555, -1.555244, -1.459934, -1.364624, -1.269314, -1.174004, -1.078694, -0.983383, -0.888073, -0.792763, -0.697453, -0.602143, -0.506832, -0.411522, -0.316212, -0.220902, -0.125592, -0.030282, 0.065029], \"y\": [-13.122313, -13.122313, -13.122313, -13.122313, -13.122313, -13.122313, -13.122313, -13.122313, -13.122313, -13.122313, -13.122313, -13.122313, -13.122313, -13.122313, -13.122313, -13.122313, -13.122313, -13.122313, -13.122313, -13.122313, -13.122313, -13.122313, -13.122313, -13.122313, -13.122313, -13.122313, -13.122313, -13.122313, -13.122313, -13.122313, -13.122313, -13.122313, -13.122313, -13.122313, -13.122313, -13.122313, -13.122313, -13.122313, -13.122313, -13.122313, -13.122313, -13.122313, -13.122313, -13.122313, -13.122313, -13.122313, -13.122313, -13.122313, -13.122313]}],                        {\"autosize\": true, \"hovermode\": \"x unified\", \"legend\": {\"orientation\": \"h\", \"x\": 0.5, \"xanchor\": \"center\"}, \"margin\": {\"b\": 0, \"l\": 0, \"pad\": 2, \"r\": 0, \"t\": 30}, \"template\": {\"data\": {\"bar\": [{\"error_x\": {\"color\": \"#2a3f5f\"}, \"error_y\": {\"color\": \"#2a3f5f\"}, \"marker\": {\"line\": {\"color\": \"#E5ECF6\", \"width\": 0.5}}, \"type\": \"bar\"}], \"barpolar\": [{\"marker\": {\"line\": {\"color\": \"#E5ECF6\", \"width\": 0.5}}, \"type\": \"barpolar\"}], \"carpet\": [{\"aaxis\": {\"endlinecolor\": \"#2a3f5f\", \"gridcolor\": \"white\", \"linecolor\": \"white\", \"minorgridcolor\": \"white\", \"startlinecolor\": \"#2a3f5f\"}, \"baxis\": {\"endlinecolor\": \"#2a3f5f\", \"gridcolor\": \"white\", \"linecolor\": \"white\", \"minorgridcolor\": \"white\", \"startlinecolor\": \"#2a3f5f\"}, \"type\": \"carpet\"}], \"choropleth\": [{\"colorbar\": {\"outlinewidth\": 0, \"ticks\": \"\"}, \"type\": \"choropleth\"}], \"contour\": [{\"colorbar\": {\"outlinewidth\": 0, \"ticks\": \"\"}, \"colorscale\": [[0.0, \"#0d0887\"], [0.1111111111111111, \"#46039f\"], [0.2222222222222222, \"#7201a8\"], [0.3333333333333333, \"#9c179e\"], [0.4444444444444444, \"#bd3786\"], [0.5555555555555556, \"#d8576b\"], [0.6666666666666666, \"#ed7953\"], [0.7777777777777778, \"#fb9f3a\"], [0.8888888888888888, \"#fdca26\"], [1.0, \"#f0f921\"]], \"type\": \"contour\"}], \"contourcarpet\": [{\"colorbar\": {\"outlinewidth\": 0, \"ticks\": \"\"}, \"type\": \"contourcarpet\"}], \"heatmap\": [{\"colorbar\": {\"outlinewidth\": 0, \"ticks\": \"\"}, \"colorscale\": [[0.0, \"#0d0887\"], [0.1111111111111111, \"#46039f\"], [0.2222222222222222, \"#7201a8\"], [0.3333333333333333, \"#9c179e\"], [0.4444444444444444, \"#bd3786\"], [0.5555555555555556, \"#d8576b\"], [0.6666666666666666, \"#ed7953\"], [0.7777777777777778, \"#fb9f3a\"], [0.8888888888888888, \"#fdca26\"], [1.0, \"#f0f921\"]], \"type\": \"heatmap\"}], \"heatmapgl\": [{\"colorbar\": {\"outlinewidth\": 0, \"ticks\": \"\"}, \"colorscale\": [[0.0, \"#0d0887\"], [0.1111111111111111, \"#46039f\"], [0.2222222222222222, \"#7201a8\"], [0.3333333333333333, \"#9c179e\"], [0.4444444444444444, \"#bd3786\"], [0.5555555555555556, \"#d8576b\"], [0.6666666666666666, \"#ed7953\"], [0.7777777777777778, \"#fb9f3a\"], [0.8888888888888888, \"#fdca26\"], [1.0, \"#f0f921\"]], \"type\": \"heatmapgl\"}], \"histogram\": [{\"marker\": {\"colorbar\": {\"outlinewidth\": 0, \"ticks\": \"\"}}, \"type\": \"histogram\"}], \"histogram2d\": [{\"colorbar\": {\"outlinewidth\": 0, \"ticks\": \"\"}, \"colorscale\": [[0.0, \"#0d0887\"], [0.1111111111111111, \"#46039f\"], [0.2222222222222222, \"#7201a8\"], [0.3333333333333333, \"#9c179e\"], [0.4444444444444444, \"#bd3786\"], [0.5555555555555556, \"#d8576b\"], [0.6666666666666666, \"#ed7953\"], [0.7777777777777778, \"#fb9f3a\"], [0.8888888888888888, \"#fdca26\"], [1.0, \"#f0f921\"]], \"type\": \"histogram2d\"}], \"histogram2dcontour\": [{\"colorbar\": {\"outlinewidth\": 0, \"ticks\": \"\"}, \"colorscale\": [[0.0, \"#0d0887\"], [0.1111111111111111, \"#46039f\"], [0.2222222222222222, \"#7201a8\"], [0.3333333333333333, \"#9c179e\"], [0.4444444444444444, \"#bd3786\"], [0.5555555555555556, \"#d8576b\"], [0.6666666666666666, \"#ed7953\"], [0.7777777777777778, \"#fb9f3a\"], [0.8888888888888888, \"#fdca26\"], [1.0, \"#f0f921\"]], \"type\": \"histogram2dcontour\"}], \"mesh3d\": [{\"colorbar\": {\"outlinewidth\": 0, \"ticks\": \"\"}, \"type\": \"mesh3d\"}], \"parcoords\": [{\"line\": {\"colorbar\": {\"outlinewidth\": 0, \"ticks\": \"\"}}, \"type\": \"parcoords\"}], \"pie\": [{\"automargin\": true, \"type\": \"pie\"}], \"scatter\": [{\"marker\": {\"colorbar\": {\"outlinewidth\": 0, \"ticks\": \"\"}}, \"type\": \"scatter\"}], \"scatter3d\": [{\"line\": {\"colorbar\": {\"outlinewidth\": 0, \"ticks\": \"\"}}, \"marker\": {\"colorbar\": {\"outlinewidth\": 0, \"ticks\": \"\"}}, \"type\": \"scatter3d\"}], \"scattercarpet\": [{\"marker\": {\"colorbar\": {\"outlinewidth\": 0, \"ticks\": \"\"}}, \"type\": \"scattercarpet\"}], \"scattergeo\": [{\"marker\": {\"colorbar\": {\"outlinewidth\": 0, \"ticks\": \"\"}}, \"type\": \"scattergeo\"}], \"scattergl\": [{\"marker\": {\"colorbar\": {\"outlinewidth\": 0, \"ticks\": \"\"}}, \"type\": \"scattergl\"}], \"scattermapbox\": [{\"marker\": {\"colorbar\": {\"outlinewidth\": 0, \"ticks\": \"\"}}, \"type\": \"scattermapbox\"}], \"scatterpolar\": [{\"marker\": {\"colorbar\": {\"outlinewidth\": 0, \"ticks\": \"\"}}, \"type\": \"scatterpolar\"}], \"scatterpolargl\": [{\"marker\": {\"colorbar\": {\"outlinewidth\": 0, \"ticks\": \"\"}}, \"type\": \"scatterpolargl\"}], \"scatterternary\": [{\"marker\": {\"colorbar\": {\"outlinewidth\": 0, \"ticks\": \"\"}}, \"type\": \"scatterternary\"}], \"surface\": [{\"colorbar\": {\"outlinewidth\": 0, \"ticks\": \"\"}, \"colorscale\": [[0.0, \"#0d0887\"], [0.1111111111111111, \"#46039f\"], [0.2222222222222222, \"#7201a8\"], [0.3333333333333333, \"#9c179e\"], [0.4444444444444444, \"#bd3786\"], [0.5555555555555556, \"#d8576b\"], [0.6666666666666666, \"#ed7953\"], [0.7777777777777778, \"#fb9f3a\"], [0.8888888888888888, \"#fdca26\"], [1.0, \"#f0f921\"]], \"type\": \"surface\"}], \"table\": [{\"cells\": {\"fill\": {\"color\": \"#EBF0F8\"}, \"line\": {\"color\": \"white\"}}, \"header\": {\"fill\": {\"color\": \"#C8D4E3\"}, \"line\": {\"color\": \"white\"}}, \"type\": \"table\"}]}, \"layout\": {\"annotationdefaults\": {\"arrowcolor\": \"#2a3f5f\", \"arrowhead\": 0, \"arrowwidth\": 1}, \"coloraxis\": {\"colorbar\": {\"outlinewidth\": 0, \"ticks\": \"\"}}, \"colorscale\": {\"diverging\": [[0, \"#8e0152\"], [0.1, \"#c51b7d\"], [0.2, \"#de77ae\"], [0.3, \"#f1b6da\"], [0.4, \"#fde0ef\"], [0.5, \"#f7f7f7\"], [0.6, \"#e6f5d0\"], [0.7, \"#b8e186\"], [0.8, \"#7fbc41\"], [0.9, \"#4d9221\"], [1, \"#276419\"]], \"sequential\": [[0.0, \"#0d0887\"], [0.1111111111111111, \"#46039f\"], [0.2222222222222222, \"#7201a8\"], [0.3333333333333333, \"#9c179e\"], [0.4444444444444444, \"#bd3786\"], [0.5555555555555556, \"#d8576b\"], [0.6666666666666666, \"#ed7953\"], [0.7777777777777778, \"#fb9f3a\"], [0.8888888888888888, \"#fdca26\"], [1.0, \"#f0f921\"]], \"sequentialminus\": [[0.0, \"#0d0887\"], [0.1111111111111111, \"#46039f\"], [0.2222222222222222, \"#7201a8\"], [0.3333333333333333, \"#9c179e\"], [0.4444444444444444, \"#bd3786\"], [0.5555555555555556, \"#d8576b\"], [0.6666666666666666, \"#ed7953\"], [0.7777777777777778, \"#fb9f3a\"], [0.8888888888888888, \"#fdca26\"], [1.0, \"#f0f921\"]]}, \"colorway\": [\"#636efa\", \"#EF553B\", \"#00cc96\", \"#ab63fa\", \"#FFA15A\", \"#19d3f3\", \"#FF6692\", \"#B6E880\", \"#FF97FF\", \"#FECB52\"], \"font\": {\"color\": \"#2a3f5f\"}, \"geo\": {\"bgcolor\": \"white\", \"lakecolor\": \"white\", \"landcolor\": \"#E5ECF6\", \"showlakes\": true, \"showland\": true, \"subunitcolor\": \"white\"}, \"hoverlabel\": {\"align\": \"left\"}, \"hovermode\": \"closest\", \"mapbox\": {\"style\": \"light\"}, \"paper_bgcolor\": \"white\", \"plot_bgcolor\": \"#E5ECF6\", \"polar\": {\"angularaxis\": {\"gridcolor\": \"white\", \"linecolor\": \"white\", \"ticks\": \"\"}, \"bgcolor\": \"#E5ECF6\", \"radialaxis\": {\"gridcolor\": \"white\", \"linecolor\": \"white\", \"ticks\": \"\"}}, \"scene\": {\"xaxis\": {\"backgroundcolor\": \"#E5ECF6\", \"gridcolor\": \"white\", \"gridwidth\": 2, \"linecolor\": \"white\", \"showbackground\": true, \"ticks\": \"\", \"zerolinecolor\": \"white\"}, \"yaxis\": {\"backgroundcolor\": \"#E5ECF6\", \"gridcolor\": \"white\", \"gridwidth\": 2, \"linecolor\": \"white\", \"showbackground\": true, \"ticks\": \"\", \"zerolinecolor\": \"white\"}, \"zaxis\": {\"backgroundcolor\": \"#E5ECF6\", \"gridcolor\": \"white\", \"gridwidth\": 2, \"linecolor\": \"white\", \"showbackground\": true, \"ticks\": \"\", \"zerolinecolor\": \"white\"}}, \"shapedefaults\": {\"line\": {\"color\": \"#2a3f5f\"}}, \"ternary\": {\"aaxis\": {\"gridcolor\": \"white\", \"linecolor\": \"white\", \"ticks\": \"\"}, \"baxis\": {\"gridcolor\": \"white\", \"linecolor\": \"white\", \"ticks\": \"\"}, \"bgcolor\": \"#E5ECF6\", \"caxis\": {\"gridcolor\": \"white\", \"linecolor\": \"white\", \"ticks\": \"\"}}, \"title\": {\"x\": 0.05}, \"xaxis\": {\"automargin\": true, \"gridcolor\": \"white\", \"linecolor\": \"white\", \"ticks\": \"\", \"title\": {\"standoff\": 15}, \"zerolinecolor\": \"white\", \"zerolinewidth\": 2}, \"yaxis\": {\"automargin\": true, \"gridcolor\": \"white\", \"linecolor\": \"white\", \"ticks\": \"\", \"title\": {\"standoff\": 15}, \"zerolinecolor\": \"white\", \"zerolinewidth\": 2}}}},                        {\"responsive\": true}                    ).then(function(){\n",
       "                            \n",
       "var gd = document.getElementById('1993e5f4-731e-441b-9c0e-c698680662a3');\n",
       "var x = new MutationObserver(function (mutations, observer) {{\n",
       "        var display = window.getComputedStyle(gd).display;\n",
       "        if (!display || display === 'none') {{\n",
       "            console.log([gd, 'removed!']);\n",
       "            Plotly.purge(gd);\n",
       "            observer.disconnect();\n",
       "        }}\n",
       "}});\n",
       "\n",
       "// Listen for the removal of the full notebook cells\n",
       "var notebookContainer = gd.closest('#notebook-container');\n",
       "if (notebookContainer) {{\n",
       "    x.observe(notebookContainer, {childList: true});\n",
       "}}\n",
       "\n",
       "// Listen for the clearing of the current output cell\n",
       "var outputEl = gd.closest('.output');\n",
       "if (outputEl) {{\n",
       "    x.observe(outputEl, {childList: true});\n",
       "}}\n",
       "\n",
       "                        })                };                });            </script>        </div>"
      ]
     },
     "metadata": {},
     "output_type": "display_data"
    }
   ],
   "source": [
    "fig = go.Figure()\n",
    "marker=dict(opacity=0.9,reversescale=True,colorscale='Blues',size=3)\n",
    "\n",
    "for k in dictx_m.keys():\n",
    "    m = k\n",
    "    x = dictx_m[m]\n",
    "    y = dicty_m[m]\n",
    "    fig.add_trace(go.Scatter(x=x, y=y, mode='markers', marker=marker, name = f\"m = {m}\"))\n",
    "    \n",
    "    #step = round(eps[len(eps)-1]/len(eps),2)\n",
    "fig.update_traces(hoverinfo=\"all\")\n",
    "\n",
    "    \n",
    "fig.update_layout(legend_orientation=\"h\",\n",
    "                legend=dict(x=.5, xanchor=\"center\"),\n",
    "                hovermode=\"x unified\",\n",
    "                autosize=True,\n",
    "                #title=f\"Корреляционный интеграл eps = [{eps[0]}:{round(eps[len(eps)-1])}], step={step}\",\n",
    "                margin=dict(l=0,r=0,b=0,t=30,pad=2))\n",
    "fig.show()"
   ]
  },
  {
   "cell_type": "code",
   "execution_count": 11,
   "metadata": {},
   "outputs": [],
   "source": [
    "fig.write_html(\"res_kantor500.html\")"
   ]
  },
  {
   "cell_type": "code",
   "execution_count": null,
   "metadata": {},
   "outputs": [],
   "source": []
  },
  {
   "cell_type": "code",
   "execution_count": null,
   "metadata": {},
   "outputs": [],
   "source": []
  }
 ],
 "metadata": {
  "kernelspec": {
   "display_name": "Python 3",
   "language": "python",
   "name": "python3"
  },
  "language_info": {
   "codemirror_mode": {
    "name": "ipython",
    "version": 3
   },
   "file_extension": ".py",
   "mimetype": "text/x-python",
   "name": "python",
   "nbconvert_exporter": "python",
   "pygments_lexer": "ipython3",
   "version": "3.7.7"
  }
 },
 "nbformat": 4,
 "nbformat_minor": 4
}
